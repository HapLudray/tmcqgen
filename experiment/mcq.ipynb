{
 "cells": [
  {
   "cell_type": "code",
   "execution_count": 1,
   "metadata": {},
   "outputs": [],
   "source": [
    "import os\n",
    "import json\n",
    "import pandas as pd\n",
    "import traceback"
   ]
  },
  {
   "cell_type": "code",
   "execution_count": 2,
   "metadata": {},
   "outputs": [],
   "source": [
    "from langchain.chat_models import ChatOpenAI"
   ]
  },
  {
   "cell_type": "code",
   "execution_count": 3,
   "metadata": {},
   "outputs": [
    {
     "data": {
      "text/plain": [
       "True"
      ]
     },
     "execution_count": 3,
     "metadata": {},
     "output_type": "execute_result"
    }
   ],
   "source": [
    "from dotenv import load_dotenv\n",
    "\n",
    "load_dotenv()"
   ]
  },
  {
   "cell_type": "code",
   "execution_count": 4,
   "metadata": {},
   "outputs": [],
   "source": [
    "KEY=os.getenv(\"OPENAI_API_KEY\")"
   ]
  },
  {
   "cell_type": "code",
   "execution_count": 6,
   "metadata": {},
   "outputs": [
    {
     "name": "stderr",
     "output_type": "stream",
     "text": [
      "C:\\Users\\ZhangBeixiang\\AppData\\Local\\Temp\\ipykernel_22156\\1729027061.py:1: LangChainDeprecationWarning: The class `ChatOpenAI` was deprecated in LangChain 0.0.10 and will be removed in 1.0. An updated version of the class exists in the langchain-openai package and should be used instead. To use it run `pip install -U langchain-openai` and import as `from langchain_openai import ChatOpenAI`.\n",
      "  llm=ChatOpenAI(openai_api_key=KEY,model_name=\"gpt-4o\",temperature=0.5)\n"
     ]
    }
   ],
   "source": [
    "llm=ChatOpenAI(openai_api_key=KEY,model_name=\"gpt-4o\",temperature=0.5)"
   ]
  },
  {
   "cell_type": "code",
   "execution_count": 7,
   "metadata": {},
   "outputs": [],
   "source": [
    "from langchain.llms import OpenAI\n",
    "from langchain.prompts import PromptTemplate\n",
    "from langchain.chains import LLMChain\n",
    "from langchain.chains import SequentialChain\n",
    "from langchain.callbacks import get_openai_callback\n",
    "import PyPDF2"
   ]
  },
  {
   "cell_type": "code",
   "execution_count": 8,
   "metadata": {},
   "outputs": [],
   "source": [
    "RESPONSE_JSON = {\n",
    "    \"1\": {\n",
    "        \"mcq\": \"multiple-choice question\",\n",
    "        \"options\": {\n",
    "            \"a\": \"choice here\",\n",
    "            \"b\": \"choice here\",\n",
    "            \"c\": \"choice here\",\n",
    "            \"d\": \"choice here\",\n",
    "        },\n",
    "        \"correct\": \"correct answer\",\n",
    "    },\n",
    "    \"2\": {\n",
    "        \"mcq\": \"multiple-choice question\",\n",
    "        \"options\": {\n",
    "            \"a\": \"choice here\",\n",
    "            \"b\": \"choice here\",\n",
    "            \"c\": \"choice here\",\n",
    "            \"d\": \"choice here\",\n",
    "        },\n",
    "        \"correct\": \"correct answer\",\n",
    "    },\n",
    "    \"3\": {\n",
    "        \"mcq\": \"multiple-choice question\",\n",
    "        \"options\": {\n",
    "            \"a\": \"choice here\",\n",
    "            \"b\": \"choice here\",\n",
    "            \"c\": \"choice here\",\n",
    "            \"d\": \"choice here\",\n",
    "        },\n",
    "        \"correct\": \"correct answer\",\n",
    "    },\n",
    "}"
   ]
  },
  {
   "cell_type": "code",
   "execution_count": 9,
   "metadata": {},
   "outputs": [],
   "source": [
    "TEMPLATE=\"\"\"\n",
    "Text:{text}\n",
    "You are an expert MCQ maker. Given the above text, it is your job to \\\n",
    "create a quiz for {number} multiple-choice questions for {subject} students in {tone} tone.\n",
    "Make sure the questions are not repeated and check all the questions to be comfirming the text as well.\n",
    "Make sure to format your response like RESPONSE_JSON below and use it as a guide. \\\n",
    "Remember to make {number} MCQs\n",
    "### RESPONSE_JSON\n",
    "{response_json}\n",
    "\n",
    "\"\"\""
   ]
  },
  {
   "cell_type": "code",
   "execution_count": 10,
   "metadata": {},
   "outputs": [],
   "source": [
    "quiz_generation_prompt = PromptTemplate(\n",
    "    input_variables=[\"text\",\"number\",\"subject\",\"tone\",\"response_json\"],\n",
    "    template = TEMPLATE\n",
    ")"
   ]
  },
  {
   "cell_type": "code",
   "execution_count": 11,
   "metadata": {},
   "outputs": [
    {
     "name": "stderr",
     "output_type": "stream",
     "text": [
      "C:\\Users\\ZhangBeixiang\\AppData\\Local\\Temp\\ipykernel_22156\\2669661367.py:1: LangChainDeprecationWarning: The class `LLMChain` was deprecated in LangChain 0.1.17 and will be removed in 1.0. Use RunnableSequence, e.g., `prompt | llm` instead.\n",
      "  quiz_chain=LLMChain(llm=llm, prompt=quiz_generation_prompt, output_key=\"quiz\", verbose=True)\n"
     ]
    }
   ],
   "source": [
    "quiz_chain=LLMChain(llm=llm, prompt=quiz_generation_prompt, output_key=\"quiz\", verbose=True)"
   ]
  },
  {
   "cell_type": "code",
   "execution_count": 12,
   "metadata": {},
   "outputs": [],
   "source": [
    "TEMPLATE2=\"\"\"\n",
    "You are an expert English grammarian and writer. Given a Multiple-Choice Quiz for {subject} students.\\\n",
    "You need to evaluate the complexity of the question and give a complete analysis of the quiz. Only use at max 50 words for complexity.\n",
    "If the quiz is not at per with the cognitive and analytical abilities of the students,\\\n",
    "update the quiz questions which needs to be changed and change the tone such that it perfectly fits the students.\n",
    "Quiz_MCQs:\n",
    "{quiz}\n",
    "\n",
    "Check from an expert English Writer of the above quiz:\n",
    "\"\"\""
   ]
  },
  {
   "cell_type": "code",
   "execution_count": 13,
   "metadata": {},
   "outputs": [],
   "source": [
    "quiz_evaluation_prompt = PromptTemplate(\n",
    "    input_variables=[\"subject\",\"quiz\"],\n",
    "    template = TEMPLATE2\n",
    ")"
   ]
  },
  {
   "cell_type": "code",
   "execution_count": 14,
   "metadata": {},
   "outputs": [],
   "source": [
    "review_chain = LLMChain(llm=llm, prompt=quiz_evaluation_prompt, output_key=\"review\", verbose=True)"
   ]
  },
  {
   "cell_type": "code",
   "execution_count": 15,
   "metadata": {},
   "outputs": [],
   "source": [
    "generate_evaluate_chain=SequentialChain(chains=[quiz_chain,review_chain], \n",
    "                                        input_variables=[\"text\",\"number\",\"subject\",\"tone\",\"response_json\"],\n",
    "                                        output_variables=[\"quiz\",\"review\"], verbose=True)"
   ]
  },
  {
   "cell_type": "code",
   "execution_count": 16,
   "metadata": {},
   "outputs": [],
   "source": [
    "file_path = r\"E:\\tmcqgen\\data.txt\""
   ]
  },
  {
   "cell_type": "code",
   "execution_count": 17,
   "metadata": {},
   "outputs": [],
   "source": [
    "with open(file_path,'r') as file:\n",
    "    TEXT = file.read()"
   ]
  },
  {
   "cell_type": "code",
   "execution_count": 18,
   "metadata": {},
   "outputs": [
    {
     "name": "stdout",
     "output_type": "stream",
     "text": [
      "The term machine learning was coined in 1959 by Arthur Samuel, an IBM employee and pioneer in the field of computer gaming and artificial intelligence.[8][9] The synonym self-teaching computers was also used in this time period.[10][11]\n",
      "\n",
      "Although the earliest machine learning model was introduced in the 1950s when Arthur Samuel invented a program that calculated the winning chance in checkers for each side, the history of machine learning roots back to decades of human desire and effort to study human cognitive processes.[12] In 1949, Canadian psychologist Donald Hebb published the book The Organization of Behavior, in which he introduced a theoretical neural structure formed by certain interactions among nerve cells.[13] Hebb's model of neurons interacting with one another set a groundwork for how AIs and machine learning algorithms work under nodes, or artificial neurons used by computers to communicate data.[12] Other researchers who have studied human cognitive systems contributed to the modern machine learning technologies as well, including logician Walter Pitts and Warren McCulloch, who proposed the early mathematical models of neural networks to come up with algorithms that mirror human thought processes.[12]\n",
      "\n",
      "By the early 1960s an experimental \"learning machine\" with punched tape memory, called Cybertron, had been developed by Raytheon Company to analyze sonar signals, electrocardiograms, and speech patterns using rudimentary reinforcement learning. It was repetitively \"trained\" by a human operator/teacher to recognize patterns and equipped with a \"goof\" button to cause it to reevaluate incorrect decisions.[14] A representative book on research into machine learning during the 1960s was Nilsson's book on Learning Machines, dealing mostly with machine learning for pattern classification.[15] Interest related to pattern recognition continued into the 1970s, as described by Duda and Hart in 1973.[16] In 1981 a report was given on using teaching strategies so that an artificial neural network learns to recognize 40 characters (26 letters, 10 digits, and 4 special symbols) from a computer terminal.[17]\n",
      "\n",
      "Tom M. Mitchell provided a widely quoted, more formal definition of the algorithms studied in the machine learning field: \"A computer program is said to learn from experience E with respect to some class of tasks T and performance measure P if its performance at tasks in T, as measured by P, improves with experience E.\"[18] This definition of the tasks in which machine learning is concerned offers a fundamentally operational definition rather than defining the field in cognitive terms. This follows Alan Turing's proposal in his paper \"Computing Machinery and Intelligence\", in which the question \"Can machines think?\" is replaced with the question \"Can machines do what we (as thinking entities) can do?\".[19]\n",
      "\n",
      "Modern-day machine learning has two objectives. One is to classify data based on models which have been developed; the other purpose is to make predictions for future outcomes based on these models. A hypothetical algorithm specific to classifying data may use computer vision of moles coupled with supervised learning in order to train it to classify the cancerous moles. A machine learning algorithm for stock trading may inform the trader of future potential predictions.[20]\n"
     ]
    }
   ],
   "source": [
    "print(TEXT)"
   ]
  },
  {
   "cell_type": "code",
   "execution_count": 19,
   "metadata": {},
   "outputs": [
    {
     "data": {
      "text/plain": [
       "'{\"1\": {\"mcq\": \"multiple-choice question\", \"options\": {\"a\": \"choice here\", \"b\": \"choice here\", \"c\": \"choice here\", \"d\": \"choice here\"}, \"correct\": \"correct answer\"}, \"2\": {\"mcq\": \"multiple-choice question\", \"options\": {\"a\": \"choice here\", \"b\": \"choice here\", \"c\": \"choice here\", \"d\": \"choice here\"}, \"correct\": \"correct answer\"}, \"3\": {\"mcq\": \"multiple-choice question\", \"options\": {\"a\": \"choice here\", \"b\": \"choice here\", \"c\": \"choice here\", \"d\": \"choice here\"}, \"correct\": \"correct answer\"}}'"
      ]
     },
     "execution_count": 19,
     "metadata": {},
     "output_type": "execute_result"
    }
   ],
   "source": [
    "# Serialize the Python dictionary into a JSON-formatted string\n",
    "json.dumps(RESPONSE_JSON)"
   ]
  },
  {
   "cell_type": "code",
   "execution_count": 32,
   "metadata": {},
   "outputs": [],
   "source": [
    "NUMBER=5\n",
    "SUBJECT=\"Machine Learning\"\n",
    "TONE=\"simple\""
   ]
  },
  {
   "cell_type": "code",
   "execution_count": 33,
   "metadata": {},
   "outputs": [
    {
     "name": "stdout",
     "output_type": "stream",
     "text": [
      "\n",
      "\n",
      "\u001b[1m> Entering new SequentialChain chain...\u001b[0m\n",
      "\n",
      "\n",
      "\u001b[1m> Entering new LLMChain chain...\u001b[0m\n",
      "Prompt after formatting:\n",
      "\u001b[32;1m\u001b[1;3m\n",
      "Text:The term machine learning was coined in 1959 by Arthur Samuel, an IBM employee and pioneer in the field of computer gaming and artificial intelligence.[8][9] The synonym self-teaching computers was also used in this time period.[10][11]\n",
      "\n",
      "Although the earliest machine learning model was introduced in the 1950s when Arthur Samuel invented a program that calculated the winning chance in checkers for each side, the history of machine learning roots back to decades of human desire and effort to study human cognitive processes.[12] In 1949, Canadian psychologist Donald Hebb published the book The Organization of Behavior, in which he introduced a theoretical neural structure formed by certain interactions among nerve cells.[13] Hebb's model of neurons interacting with one another set a groundwork for how AIs and machine learning algorithms work under nodes, or artificial neurons used by computers to communicate data.[12] Other researchers who have studied human cognitive systems contributed to the modern machine learning technologies as well, including logician Walter Pitts and Warren McCulloch, who proposed the early mathematical models of neural networks to come up with algorithms that mirror human thought processes.[12]\n",
      "\n",
      "By the early 1960s an experimental \"learning machine\" with punched tape memory, called Cybertron, had been developed by Raytheon Company to analyze sonar signals, electrocardiograms, and speech patterns using rudimentary reinforcement learning. It was repetitively \"trained\" by a human operator/teacher to recognize patterns and equipped with a \"goof\" button to cause it to reevaluate incorrect decisions.[14] A representative book on research into machine learning during the 1960s was Nilsson's book on Learning Machines, dealing mostly with machine learning for pattern classification.[15] Interest related to pattern recognition continued into the 1970s, as described by Duda and Hart in 1973.[16] In 1981 a report was given on using teaching strategies so that an artificial neural network learns to recognize 40 characters (26 letters, 10 digits, and 4 special symbols) from a computer terminal.[17]\n",
      "\n",
      "Tom M. Mitchell provided a widely quoted, more formal definition of the algorithms studied in the machine learning field: \"A computer program is said to learn from experience E with respect to some class of tasks T and performance measure P if its performance at tasks in T, as measured by P, improves with experience E.\"[18] This definition of the tasks in which machine learning is concerned offers a fundamentally operational definition rather than defining the field in cognitive terms. This follows Alan Turing's proposal in his paper \"Computing Machinery and Intelligence\", in which the question \"Can machines think?\" is replaced with the question \"Can machines do what we (as thinking entities) can do?\".[19]\n",
      "\n",
      "Modern-day machine learning has two objectives. One is to classify data based on models which have been developed; the other purpose is to make predictions for future outcomes based on these models. A hypothetical algorithm specific to classifying data may use computer vision of moles coupled with supervised learning in order to train it to classify the cancerous moles. A machine learning algorithm for stock trading may inform the trader of future potential predictions.[20]\n",
      "You are an expert MCQ maker. Given the above text, it is your job to create a quiz for 5 multiple-choice questions for Machine Learning students in simple tone.\n",
      "Make sure the questions are not repeated and check all the questions to be comfirming the text as well.\n",
      "Make sure to format your response like RESPONSE_JSON below and use it as a guide. Remember to make 5 MCQs\n",
      "### RESPONSE_JSON\n",
      "{\"1\": {\"mcq\": \"multiple-choice question\", \"options\": {\"a\": \"choice here\", \"b\": \"choice here\", \"c\": \"choice here\", \"d\": \"choice here\"}, \"correct\": \"correct answer\"}, \"2\": {\"mcq\": \"multiple-choice question\", \"options\": {\"a\": \"choice here\", \"b\": \"choice here\", \"c\": \"choice here\", \"d\": \"choice here\"}, \"correct\": \"correct answer\"}, \"3\": {\"mcq\": \"multiple-choice question\", \"options\": {\"a\": \"choice here\", \"b\": \"choice here\", \"c\": \"choice here\", \"d\": \"choice here\"}, \"correct\": \"correct answer\"}}\n",
      "\n",
      "\u001b[0m\n",
      "\n",
      "\u001b[1m> Finished chain.\u001b[0m\n",
      "\n",
      "\n",
      "\u001b[1m> Entering new LLMChain chain...\u001b[0m\n",
      "Prompt after formatting:\n",
      "\u001b[32;1m\u001b[1;3m\n",
      "You are an expert English grammarian and writer. Given a Multiple-Choice Quiz for Machine Learning students.You need to evaluate the complexity of the question and give a complete analysis of the quiz. Only use at max 50 words for complexity.\n",
      "If the quiz is not at per with the cognitive and analytical abilities of the students,update the quiz questions which needs to be changed and change the tone such that it perfectly fits the students.\n",
      "Quiz_MCQs:\n",
      "{\n",
      "  \"1\": {\n",
      "    \"mcq\": \"Who coined the term 'machine learning' in 1959?\",\n",
      "    \"options\": {\n",
      "      \"a\": \"Donald Hebb\",\n",
      "      \"b\": \"Alan Turing\",\n",
      "      \"c\": \"Arthur Samuel\",\n",
      "      \"d\": \"Walter Pitts\"\n",
      "    },\n",
      "    \"correct\": \"Arthur Samuel\"\n",
      "  },\n",
      "  \"2\": {\n",
      "    \"mcq\": \"What was the name of the early experimental 'learning machine' developed by Raytheon Company in the early 1960s?\",\n",
      "    \"options\": {\n",
      "      \"a\": \"Cybertron\",\n",
      "      \"b\": \"NeuroNet\",\n",
      "      \"c\": \"AlphaGo\",\n",
      "      \"d\": \"DeepBlue\"\n",
      "    },\n",
      "    \"correct\": \"Cybertron\"\n",
      "  },\n",
      "  \"3\": {\n",
      "    \"mcq\": \"Which book by Donald Hebb introduced a theoretical neural structure formed by interactions among nerve cells?\",\n",
      "    \"options\": {\n",
      "      \"a\": \"The Organization of Behavior\",\n",
      "      \"b\": \"Learning Machines\",\n",
      "      \"c\": \"Artificial Intelligence\",\n",
      "      \"d\": \"Neural Networks\"\n",
      "    },\n",
      "    \"correct\": \"The Organization of Behavior\"\n",
      "  },\n",
      "  \"4\": {\n",
      "    \"mcq\": \"Who provided a widely quoted formal definition of the algorithms studied in the machine learning field?\",\n",
      "    \"options\": {\n",
      "      \"a\": \"Arthur Samuel\",\n",
      "      \"b\": \"Tom M. Mitchell\",\n",
      "      \"c\": \"Warren McCulloch\",\n",
      "      \"d\": \"Walter Pitts\"\n",
      "    },\n",
      "    \"correct\": \"Tom M. Mitchell\"\n",
      "  },\n",
      "  \"5\": {\n",
      "    \"mcq\": \"What are the two main objectives of modern-day machine learning?\",\n",
      "    \"options\": {\n",
      "      \"a\": \"Data classification and prediction\",\n",
      "      \"b\": \"Data storage and retrieval\",\n",
      "      \"c\": \"Pattern recognition and signal processing\",\n",
      "      \"d\": \"Algorithm design and optimization\"\n",
      "    },\n",
      "    \"correct\": \"Data classification and prediction\"\n",
      "  }\n",
      "}\n",
      "\n",
      "Check from an expert English Writer of the above quiz:\n",
      "\u001b[0m\n",
      "\n",
      "\u001b[1m> Finished chain.\u001b[0m\n",
      "\n",
      "\u001b[1m> Finished chain.\u001b[0m\n"
     ]
    }
   ],
   "source": [
    "# How to set up Token Usage Tracking in Langchain\n",
    "with get_openai_callback() as cb:\n",
    "    response=generate_evaluate_chain(\n",
    "        {\n",
    "            \"text\": TEXT,\n",
    "            \"number\": NUMBER,\n",
    "            \"subject\": SUBJECT,\n",
    "            \"tone\": TONE,\n",
    "            \"response_json\": json.dumps(RESPONSE_JSON)\n",
    "        }\n",
    "    )"
   ]
  },
  {
   "cell_type": "code",
   "execution_count": 34,
   "metadata": {},
   "outputs": [
    {
     "name": "stdout",
     "output_type": "stream",
     "text": [
      "Total Tokens: 2359\n",
      "Prompt Tokens: 1416\n",
      "Completion Tokens: 943\n",
      "Total Cost: 0.021225\n"
     ]
    }
   ],
   "source": [
    "print(f\"Total Tokens: {cb.total_tokens}\")\n",
    "print(f\"Prompt Tokens: {cb.prompt_tokens}\")\n",
    "print(f\"Completion Tokens: {cb.completion_tokens}\")\n",
    "print(f\"Total Cost: {cb.total_cost}\")"
   ]
  },
  {
   "cell_type": "code",
   "execution_count": 35,
   "metadata": {},
   "outputs": [
    {
     "data": {
      "text/plain": [
       "{'text': 'The term machine learning was coined in 1959 by Arthur Samuel, an IBM employee and pioneer in the field of computer gaming and artificial intelligence.[8][9] The synonym self-teaching computers was also used in this time period.[10][11]\\n\\nAlthough the earliest machine learning model was introduced in the 1950s when Arthur Samuel invented a program that calculated the winning chance in checkers for each side, the history of machine learning roots back to decades of human desire and effort to study human cognitive processes.[12] In 1949, Canadian psychologist Donald Hebb published the book The Organization of Behavior, in which he introduced a theoretical neural structure formed by certain interactions among nerve cells.[13] Hebb\\'s model of neurons interacting with one another set a groundwork for how AIs and machine learning algorithms work under nodes, or artificial neurons used by computers to communicate data.[12] Other researchers who have studied human cognitive systems contributed to the modern machine learning technologies as well, including logician Walter Pitts and Warren McCulloch, who proposed the early mathematical models of neural networks to come up with algorithms that mirror human thought processes.[12]\\n\\nBy the early 1960s an experimental \"learning machine\" with punched tape memory, called Cybertron, had been developed by Raytheon Company to analyze sonar signals, electrocardiograms, and speech patterns using rudimentary reinforcement learning. It was repetitively \"trained\" by a human operator/teacher to recognize patterns and equipped with a \"goof\" button to cause it to reevaluate incorrect decisions.[14] A representative book on research into machine learning during the 1960s was Nilsson\\'s book on Learning Machines, dealing mostly with machine learning for pattern classification.[15] Interest related to pattern recognition continued into the 1970s, as described by Duda and Hart in 1973.[16] In 1981 a report was given on using teaching strategies so that an artificial neural network learns to recognize 40 characters (26 letters, 10 digits, and 4 special symbols) from a computer terminal.[17]\\n\\nTom M. Mitchell provided a widely quoted, more formal definition of the algorithms studied in the machine learning field: \"A computer program is said to learn from experience E with respect to some class of tasks T and performance measure P if its performance at tasks in T, as measured by P, improves with experience E.\"[18] This definition of the tasks in which machine learning is concerned offers a fundamentally operational definition rather than defining the field in cognitive terms. This follows Alan Turing\\'s proposal in his paper \"Computing Machinery and Intelligence\", in which the question \"Can machines think?\" is replaced with the question \"Can machines do what we (as thinking entities) can do?\".[19]\\n\\nModern-day machine learning has two objectives. One is to classify data based on models which have been developed; the other purpose is to make predictions for future outcomes based on these models. A hypothetical algorithm specific to classifying data may use computer vision of moles coupled with supervised learning in order to train it to classify the cancerous moles. A machine learning algorithm for stock trading may inform the trader of future potential predictions.[20]',\n",
       " 'number': 5,\n",
       " 'subject': 'Machine Learning',\n",
       " 'tone': 'simple',\n",
       " 'response_json': '{\"1\": {\"mcq\": \"multiple-choice question\", \"options\": {\"a\": \"choice here\", \"b\": \"choice here\", \"c\": \"choice here\", \"d\": \"choice here\"}, \"correct\": \"correct answer\"}, \"2\": {\"mcq\": \"multiple-choice question\", \"options\": {\"a\": \"choice here\", \"b\": \"choice here\", \"c\": \"choice here\", \"d\": \"choice here\"}, \"correct\": \"correct answer\"}, \"3\": {\"mcq\": \"multiple-choice question\", \"options\": {\"a\": \"choice here\", \"b\": \"choice here\", \"c\": \"choice here\", \"d\": \"choice here\"}, \"correct\": \"correct answer\"}}',\n",
       " 'quiz': '{\\n  \"1\": {\\n    \"mcq\": \"Who coined the term \\'machine learning\\' in 1959?\",\\n    \"options\": {\\n      \"a\": \"Donald Hebb\",\\n      \"b\": \"Alan Turing\",\\n      \"c\": \"Arthur Samuel\",\\n      \"d\": \"Walter Pitts\"\\n    },\\n    \"correct\": \"Arthur Samuel\"\\n  },\\n  \"2\": {\\n    \"mcq\": \"What was the name of the early experimental \\'learning machine\\' developed by Raytheon Company in the early 1960s?\",\\n    \"options\": {\\n      \"a\": \"Cybertron\",\\n      \"b\": \"NeuroNet\",\\n      \"c\": \"AlphaGo\",\\n      \"d\": \"DeepBlue\"\\n    },\\n    \"correct\": \"Cybertron\"\\n  },\\n  \"3\": {\\n    \"mcq\": \"Which book by Donald Hebb introduced a theoretical neural structure formed by interactions among nerve cells?\",\\n    \"options\": {\\n      \"a\": \"The Organization of Behavior\",\\n      \"b\": \"Learning Machines\",\\n      \"c\": \"Artificial Intelligence\",\\n      \"d\": \"Neural Networks\"\\n    },\\n    \"correct\": \"The Organization of Behavior\"\\n  },\\n  \"4\": {\\n    \"mcq\": \"Who provided a widely quoted formal definition of the algorithms studied in the machine learning field?\",\\n    \"options\": {\\n      \"a\": \"Arthur Samuel\",\\n      \"b\": \"Tom M. Mitchell\",\\n      \"c\": \"Warren McCulloch\",\\n      \"d\": \"Walter Pitts\"\\n    },\\n    \"correct\": \"Tom M. Mitchell\"\\n  },\\n  \"5\": {\\n    \"mcq\": \"What are the two main objectives of modern-day machine learning?\",\\n    \"options\": {\\n      \"a\": \"Data classification and prediction\",\\n      \"b\": \"Data storage and retrieval\",\\n      \"c\": \"Pattern recognition and signal processing\",\\n      \"d\": \"Algorithm design and optimization\"\\n    },\\n    \"correct\": \"Data classification and prediction\"\\n  }\\n}',\n",
       " 'review': '### Complexity Analysis\\nThe quiz questions are generally appropriate for students studying machine learning, as they cover historical figures and foundational concepts. However, some questions may require specific prior knowledge that not all students might possess.\\n\\n### Updated Quiz Questions\\nTo better match the cognitive and analytical abilities of machine learning students, slight adjustments in tone and phrasing can be made:\\n\\n```json\\n{\\n  \"1\": {\\n    \"mcq\": \"Who introduced the term \\'machine learning\\' in 1959?\",\\n    \"options\": {\\n      \"a\": \"Donald Hebb\",\\n      \"b\": \"Alan Turing\",\\n      \"c\": \"Arthur Samuel\",\\n      \"d\": \"Walter Pitts\"\\n    },\\n    \"correct\": \"Arthur Samuel\"\\n  },\\n  \"2\": {\\n    \"mcq\": \"What was the name of the early experimental \\'learning machine\\' developed by Raytheon Company in the 1960s?\",\\n    \"options\": {\\n      \"a\": \"Cybertron\",\\n      \"b\": \"NeuroNet\",\\n      \"c\": \"AlphaGo\",\\n      \"d\": \"DeepBlue\"\\n    },\\n    \"correct\": \"Cybertron\"\\n  },\\n  \"3\": {\\n    \"mcq\": \"Which book by Donald Hebb introduced the concept of a neural structure formed by interactions among nerve cells?\",\\n    \"options\": {\\n      \"a\": \"The Organization of Behavior\",\\n      \"b\": \"Learning Machines\",\\n      \"c\": \"Artificial Intelligence\",\\n      \"d\": \"Neural Networks\"\\n    },\\n    \"correct\": \"The Organization of Behavior\"\\n  },\\n  \"4\": {\\n    \"mcq\": \"Who provided a widely quoted formal definition of machine learning algorithms?\",\\n    \"options\": {\\n      \"a\": \"Arthur Samuel\",\\n      \"b\": \"Tom M. Mitchell\",\\n      \"c\": \"Warren McCulloch\",\\n      \"d\": \"Walter Pitts\"\\n    },\\n    \"correct\": \"Tom M. Mitchell\"\\n  },\\n  \"5\": {\\n    \"mcq\": \"What are the two main goals of modern machine learning?\",\\n    \"options\": {\\n      \"a\": \"Data classification and prediction\",\\n      \"b\": \"Data storage and retrieval\",\\n      \"c\": \"Pattern recognition and signal processing\",\\n      \"d\": \"Algorithm design and optimization\"\\n    },\\n    \"correct\": \"Data classification and prediction\"\\n  }\\n}\\n```\\n\\n### Adjustments Made\\n1. Simplified wording for clarity.\\n2. Adjusted phrasing to be more direct and concise.\\n3. Ensured questions align with typical foundational knowledge expected in a machine learning course.'}"
      ]
     },
     "execution_count": 35,
     "metadata": {},
     "output_type": "execute_result"
    }
   ],
   "source": [
    "# Let's try to get the response\n",
    "response"
   ]
  },
  {
   "cell_type": "code",
   "execution_count": 36,
   "metadata": {},
   "outputs": [],
   "source": [
    "quiz = response.get(\"quiz\")"
   ]
  },
  {
   "cell_type": "code",
   "execution_count": 37,
   "metadata": {},
   "outputs": [
    {
     "name": "stdout",
     "output_type": "stream",
     "text": [
      "{\n",
      "  \"1\": {\n",
      "    \"mcq\": \"Who coined the term 'machine learning' in 1959?\",\n",
      "    \"options\": {\n",
      "      \"a\": \"Donald Hebb\",\n",
      "      \"b\": \"Alan Turing\",\n",
      "      \"c\": \"Arthur Samuel\",\n",
      "      \"d\": \"Walter Pitts\"\n",
      "    },\n",
      "    \"correct\": \"Arthur Samuel\"\n",
      "  },\n",
      "  \"2\": {\n",
      "    \"mcq\": \"What was the name of the early experimental 'learning machine' developed by Raytheon Company in the early 1960s?\",\n",
      "    \"options\": {\n",
      "      \"a\": \"Cybertron\",\n",
      "      \"b\": \"NeuroNet\",\n",
      "      \"c\": \"AlphaGo\",\n",
      "      \"d\": \"DeepBlue\"\n",
      "    },\n",
      "    \"correct\": \"Cybertron\"\n",
      "  },\n",
      "  \"3\": {\n",
      "    \"mcq\": \"Which book by Donald Hebb introduced a theoretical neural structure formed by interactions among nerve cells?\",\n",
      "    \"options\": {\n",
      "      \"a\": \"The Organization of Behavior\",\n",
      "      \"b\": \"Learning Machines\",\n",
      "      \"c\": \"Artificial Intelligence\",\n",
      "      \"d\": \"Neural Networks\"\n",
      "    },\n",
      "    \"correct\": \"The Organization of Behavior\"\n",
      "  },\n",
      "  \"4\": {\n",
      "    \"mcq\": \"Who provided a widely quoted formal definition of the algorithms studied in the machine learning field?\",\n",
      "    \"options\": {\n",
      "      \"a\": \"Arthur Samuel\",\n",
      "      \"b\": \"Tom M. Mitchell\",\n",
      "      \"c\": \"Warren McCulloch\",\n",
      "      \"d\": \"Walter Pitts\"\n",
      "    },\n",
      "    \"correct\": \"Tom M. Mitchell\"\n",
      "  },\n",
      "  \"5\": {\n",
      "    \"mcq\": \"What are the two main objectives of modern-day machine learning?\",\n",
      "    \"options\": {\n",
      "      \"a\": \"Data classification and prediction\",\n",
      "      \"b\": \"Data storage and retrieval\",\n",
      "      \"c\": \"Pattern recognition and signal processing\",\n",
      "      \"d\": \"Algorithm design and optimization\"\n",
      "    },\n",
      "    \"correct\": \"Data classification and prediction\"\n",
      "  }\n",
      "}\n"
     ]
    }
   ],
   "source": [
    "print(quiz)"
   ]
  },
  {
   "cell_type": "code",
   "execution_count": 38,
   "metadata": {},
   "outputs": [],
   "source": [
    "review = response.get(\"review\")"
   ]
  },
  {
   "cell_type": "code",
   "execution_count": 39,
   "metadata": {},
   "outputs": [
    {
     "name": "stdout",
     "output_type": "stream",
     "text": [
      "### Complexity Analysis\n",
      "The quiz questions are generally appropriate for students studying machine learning, as they cover historical figures and foundational concepts. However, some questions may require specific prior knowledge that not all students might possess.\n",
      "\n",
      "### Updated Quiz Questions\n",
      "To better match the cognitive and analytical abilities of machine learning students, slight adjustments in tone and phrasing can be made:\n",
      "\n",
      "```json\n",
      "{\n",
      "  \"1\": {\n",
      "    \"mcq\": \"Who introduced the term 'machine learning' in 1959?\",\n",
      "    \"options\": {\n",
      "      \"a\": \"Donald Hebb\",\n",
      "      \"b\": \"Alan Turing\",\n",
      "      \"c\": \"Arthur Samuel\",\n",
      "      \"d\": \"Walter Pitts\"\n",
      "    },\n",
      "    \"correct\": \"Arthur Samuel\"\n",
      "  },\n",
      "  \"2\": {\n",
      "    \"mcq\": \"What was the name of the early experimental 'learning machine' developed by Raytheon Company in the 1960s?\",\n",
      "    \"options\": {\n",
      "      \"a\": \"Cybertron\",\n",
      "      \"b\": \"NeuroNet\",\n",
      "      \"c\": \"AlphaGo\",\n",
      "      \"d\": \"DeepBlue\"\n",
      "    },\n",
      "    \"correct\": \"Cybertron\"\n",
      "  },\n",
      "  \"3\": {\n",
      "    \"mcq\": \"Which book by Donald Hebb introduced the concept of a neural structure formed by interactions among nerve cells?\",\n",
      "    \"options\": {\n",
      "      \"a\": \"The Organization of Behavior\",\n",
      "      \"b\": \"Learning Machines\",\n",
      "      \"c\": \"Artificial Intelligence\",\n",
      "      \"d\": \"Neural Networks\"\n",
      "    },\n",
      "    \"correct\": \"The Organization of Behavior\"\n",
      "  },\n",
      "  \"4\": {\n",
      "    \"mcq\": \"Who provided a widely quoted formal definition of machine learning algorithms?\",\n",
      "    \"options\": {\n",
      "      \"a\": \"Arthur Samuel\",\n",
      "      \"b\": \"Tom M. Mitchell\",\n",
      "      \"c\": \"Warren McCulloch\",\n",
      "      \"d\": \"Walter Pitts\"\n",
      "    },\n",
      "    \"correct\": \"Tom M. Mitchell\"\n",
      "  },\n",
      "  \"5\": {\n",
      "    \"mcq\": \"What are the two main goals of modern machine learning?\",\n",
      "    \"options\": {\n",
      "      \"a\": \"Data classification and prediction\",\n",
      "      \"b\": \"Data storage and retrieval\",\n",
      "      \"c\": \"Pattern recognition and signal processing\",\n",
      "      \"d\": \"Algorithm design and optimization\"\n",
      "    },\n",
      "    \"correct\": \"Data classification and prediction\"\n",
      "  }\n",
      "}\n",
      "```\n",
      "\n",
      "### Adjustments Made\n",
      "1. Simplified wording for clarity.\n",
      "2. Adjusted phrasing to be more direct and concise.\n",
      "3. Ensured questions align with typical foundational knowledge expected in a machine learning course.\n"
     ]
    }
   ],
   "source": [
    "print(review)"
   ]
  },
  {
   "cell_type": "code",
   "execution_count": 40,
   "metadata": {},
   "outputs": [
    {
     "data": {
      "text/plain": [
       "str"
      ]
     },
     "execution_count": 40,
     "metadata": {},
     "output_type": "execute_result"
    }
   ],
   "source": [
    "# Let's convert the format of the result\n",
    "# quiz is str now\n",
    "type(quiz)"
   ]
  },
  {
   "cell_type": "code",
   "execution_count": 42,
   "metadata": {},
   "outputs": [],
   "source": [
    "quiz=json.loads(quiz)"
   ]
  },
  {
   "cell_type": "code",
   "execution_count": 43,
   "metadata": {},
   "outputs": [
    {
     "data": {
      "text/plain": [
       "dict"
      ]
     },
     "execution_count": 43,
     "metadata": {},
     "output_type": "execute_result"
    }
   ],
   "source": [
    "# quiz is dict now\n",
    "type(quiz)"
   ]
  },
  {
   "cell_type": "code",
   "execution_count": 44,
   "metadata": {},
   "outputs": [],
   "source": [
    "quiz_table_data = []\n",
    "for key, value in quiz.items():\n",
    "    mcq = value[\"mcq\"]\n",
    "    options = \" | \".join(\n",
    "        [\n",
    "            f\"{option}: {option_value}\"\n",
    "            for option, option_value in value[\"options\"].items()\n",
    "        ]\n",
    "    )\n",
    "    correct = value[\"correct\"]\n",
    "    quiz_table_data.append({\"MCQ\": mcq, \"Choices\": options, \"Correct\": correct})"
   ]
  },
  {
   "cell_type": "code",
   "execution_count": 45,
   "metadata": {},
   "outputs": [
    {
     "name": "stdout",
     "output_type": "stream",
     "text": [
      "[{'MCQ': \"Who coined the term 'machine learning' in 1959?\", 'Choices': 'a: Donald Hebb | b: Alan Turing | c: Arthur Samuel | d: Walter Pitts', 'Correct': 'Arthur Samuel'}, {'MCQ': \"What was the name of the early experimental 'learning machine' developed by Raytheon Company in the early 1960s?\", 'Choices': 'a: Cybertron | b: NeuroNet | c: AlphaGo | d: DeepBlue', 'Correct': 'Cybertron'}, {'MCQ': 'Which book by Donald Hebb introduced a theoretical neural structure formed by interactions among nerve cells?', 'Choices': 'a: The Organization of Behavior | b: Learning Machines | c: Artificial Intelligence | d: Neural Networks', 'Correct': 'The Organization of Behavior'}, {'MCQ': 'Who provided a widely quoted formal definition of the algorithms studied in the machine learning field?', 'Choices': 'a: Arthur Samuel | b: Tom M. Mitchell | c: Warren McCulloch | d: Walter Pitts', 'Correct': 'Tom M. Mitchell'}, {'MCQ': 'What are the two main objectives of modern-day machine learning?', 'Choices': 'a: Data classification and prediction | b: Data storage and retrieval | c: Pattern recognition and signal processing | d: Algorithm design and optimization', 'Correct': 'Data classification and prediction'}]\n"
     ]
    }
   ],
   "source": [
    "print(quiz_table_data)"
   ]
  },
  {
   "cell_type": "code",
   "execution_count": 47,
   "metadata": {},
   "outputs": [],
   "source": [
    "quiz_formatted = pd.DataFrame(quiz_table_data)"
   ]
  },
  {
   "cell_type": "code",
   "execution_count": 48,
   "metadata": {},
   "outputs": [],
   "source": [
    "quiz_formatted.to_csv(\"machine_learning_quiz.csv\", index=False)"
   ]
  },
  {
   "cell_type": "code",
   "execution_count": null,
   "metadata": {},
   "outputs": [],
   "source": []
  }
 ],
 "metadata": {
  "kernelspec": {
   "display_name": "Python 3",
   "language": "python",
   "name": "python3"
  },
  "language_info": {
   "codemirror_mode": {
    "name": "ipython",
    "version": 3
   },
   "file_extension": ".py",
   "mimetype": "text/x-python",
   "name": "python",
   "nbconvert_exporter": "python",
   "pygments_lexer": "ipython3",
   "version": "3.8.19"
  }
 },
 "nbformat": 4,
 "nbformat_minor": 2
}
